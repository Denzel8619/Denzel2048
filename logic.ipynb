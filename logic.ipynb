{
 "cells": [
  {
   "cell_type": "code",
   "execution_count": 1,
   "id": "1128a4fe",
   "metadata": {},
   "outputs": [],
   "source": [
    "import random\n"
   ]
  },
  {
   "cell_type": "code",
   "execution_count": 2,
   "id": "8e030d78",
   "metadata": {},
   "outputs": [],
   "source": [
    "#create a new game\n",
    "def new_game():\n",
    "    matrix = []\n",
    "    for i in range(4):\n",
    "        matrix.append([0] * 4)\n",
    "    matrix = add_two(matrix)\n",
    "    print(\"Commands are as follows : \")\n",
    "    print(\"'W' or 'w' : Move Up\")\n",
    "    print(\"'S' or 's' : Move Down\")\n",
    "    print(\"'A' or 'a' : Move Left\")\n",
    "    print(\"'D' or 'd' : Move Right\")\n",
    "    return matrix"
   ]
  },
  {
   "cell_type": "code",
   "execution_count": 3,
   "id": "914b71ec",
   "metadata": {},
   "outputs": [],
   "source": [
    "#creating new 2's from blank\n",
    "def add_two(mat):\n",
    "    a = random.randint(0, 3)\n",
    "    b = random.randint(0, 3)\n",
    "    while mat[a][b] != 0:\n",
    "        a = random.randint(0, 3)\n",
    "        b = random.randint(0, 3)\n",
    "    mat[a][b] = 2\n",
    "    return mat"
   ]
  },
  {
   "cell_type": "code",
   "execution_count": 4,
   "id": "18a01fd2",
   "metadata": {},
   "outputs": [],
   "source": [
    "#check if game ended\n",
    "def game_state(mat):\n",
    "    # check for win cell\n",
    "    for i in range(4):\n",
    "        for j in range(4):\n",
    "            if mat[i][j] == 2048:\n",
    "                return 'win'\n",
    "    #check for zero \n",
    "    for i in range(4):\n",
    "        for j in range(4):\n",
    "            if mat[i][j]==0:\n",
    "                return 'not over'\n",
    "    for i in range(3):\n",
    "        for j in range(3):\n",
    "            if mat[i][j]==mat[i+1][j] or mat[i][j]==mat[i][j+1]:\n",
    "                return 'not over'\n",
    "    for i in range(3):\n",
    "        if mat[i][3]==mat[i+1][3]:\n",
    "            return 'not over'\n",
    "    for j in range(3):\n",
    "        if mat[3][j]==mat[3][j+1]:\n",
    "            return 'not over'\n",
    "    return 'lose'\n",
    "            "
   ]
  },
  {
   "cell_type": "code",
   "execution_count": 5,
   "id": "d44697ef",
   "metadata": {},
   "outputs": [],
   "source": [
    "# for left command, return the compressed version of the mat, and proceed to merging\n",
    "def compress(mat):\n",
    "    changed= False\n",
    "    new_mat=[]\n",
    "    for i in range(4):\n",
    "        new_mat.append([0]*4)\n",
    "    for i in range(4):\n",
    "        pos=0\n",
    "        for j in range(4):\n",
    "            if mat[i][j]!=0:\n",
    "                new_mat[i][pos]=mat[i][j]\n",
    "                if j!=pos:\n",
    "                    changed=True\n",
    "                pos+=1\n",
    "    return new_mat, changed\n",
    "                    \n",
    "            \n",
    "        "
   ]
  },
  {
   "cell_type": "code",
   "execution_count": 6,
   "id": "92ce656a",
   "metadata": {},
   "outputs": [],
   "source": [
    "def merge(mat):\n",
    "    changed = False\n",
    "    for i in range(4):\n",
    "        for j in range(3):\n",
    "            if(mat[i][j] == mat[i][j + 1] and mat[i][j] != 0):\n",
    "                # double current cell value and empty the next cell\n",
    "                mat[i][j] = mat[i][j] * 2\n",
    "                mat[i][j + 1] = 0\n",
    "                # make bool variable True indicating the new grid after merging is different.\n",
    "                changed = True\n",
    " \n",
    "    return mat, changed"
   ]
  },
  {
   "cell_type": "code",
   "execution_count": 7,
   "id": "1e668541",
   "metadata": {},
   "outputs": [],
   "source": [
    "def reverse(mat):\n",
    "    new_mat =[]\n",
    "    for i in range(4):\n",
    "        new_mat.append([])\n",
    "        for j in range(4):\n",
    "            new_mat[i].append(mat[i][3 - j])\n",
    "    return new_mat"
   ]
  },
  {
   "cell_type": "code",
   "execution_count": 8,
   "id": "3eea3878",
   "metadata": {},
   "outputs": [],
   "source": [
    "def transpose(mat):\n",
    "    new_mat = []\n",
    "    for i in range(4):\n",
    "        new_mat.append([])\n",
    "        for j in range(4):\n",
    "            new_mat[i].append(mat[j][i])\n",
    "    return new_mat"
   ]
  },
  {
   "cell_type": "code",
   "execution_count": 9,
   "id": "402f7aa7",
   "metadata": {},
   "outputs": [],
   "source": [
    "def move_left(grid):\n",
    "    new_grid, changed1 = compress(grid)\n",
    "    new_grid, changed2 = merge(new_grid)\n",
    "     \n",
    "    changed = changed1 or changed2\n",
    "    # again compress after merging.\n",
    "    new_grid, temp = compress(new_grid)\n",
    "    return new_grid, changed"
   ]
  },
  {
   "cell_type": "code",
   "execution_count": 10,
   "id": "5e4ec380",
   "metadata": {},
   "outputs": [],
   "source": [
    "def move_right(grid):\n",
    "    new_grid = reverse(grid)\n",
    "    new_grid, changed = move_left(new_grid)\n",
    "    new_grid = reverse(new_grid)\n",
    "    return new_grid, changed"
   ]
  },
  {
   "cell_type": "code",
   "execution_count": 11,
   "id": "178a6b3f",
   "metadata": {},
   "outputs": [],
   "source": [
    "def move_up(grid):\n",
    "    new_grid = transpose(grid)\n",
    "    new_grid, changed = move_left(new_grid)\n",
    "    new_grid = transpose(new_grid)\n",
    "    return new_grid, changed"
   ]
  },
  {
   "cell_type": "code",
   "execution_count": 12,
   "id": "d39b8b11",
   "metadata": {},
   "outputs": [],
   "source": [
    "def move_down(grid):\n",
    "    new_grid = transpose(grid)\n",
    "    new_grid, changed = move_right(new_grid)\n",
    "    new_grid = transpose(new_grid)\n",
    "    return new_grid, changed"
   ]
  }
 ],
 "metadata": {
  "kernelspec": {
   "display_name": "Python 3 (ipykernel)",
   "language": "python",
   "name": "python3"
  },
  "language_info": {
   "codemirror_mode": {
    "name": "ipython",
    "version": 3
   },
   "file_extension": ".py",
   "mimetype": "text/x-python",
   "name": "python",
   "nbconvert_exporter": "python",
   "pygments_lexer": "ipython3",
   "version": "3.9.13"
  }
 },
 "nbformat": 4,
 "nbformat_minor": 5
}
