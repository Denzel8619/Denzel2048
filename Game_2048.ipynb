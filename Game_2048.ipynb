{
 "cells": [
  {
   "cell_type": "code",
   "execution_count": 9,
   "id": "b3217b06",
   "metadata": {},
   "outputs": [],
   "source": [
    "%run logic.ipynb"
   ]
  },
  {
   "cell_type": "code",
   "execution_count": null,
   "id": "c56445f1",
   "metadata": {},
   "outputs": [
    {
     "name": "stdout",
     "output_type": "stream",
     "text": [
      "Commands are as follows : \n",
      "'W' or 'w' : Move Up\n",
      "'S' or 's' : Move Down\n",
      "'A' or 'a' : Move Left\n",
      "'D' or 'd' : Move Right\n",
      "Press the command : W\n",
      "not over\n",
      "[[2, 0, 2, 0], [0, 0, 0, 0], [0, 0, 0, 0], [0, 0, 0, 0]]\n",
      "Press the command : A\n",
      "not over\n",
      "[[4, 0, 0, 0], [0, 0, 0, 0], [0, 2, 0, 0], [0, 0, 0, 0]]\n",
      "Press the command : A\n",
      "not over\n",
      "[[4, 0, 0, 0], [0, 0, 0, 2], [2, 0, 0, 0], [0, 0, 0, 0]]\n"
     ]
    }
   ],
   "source": [
    "if __name__ == '__main__':\n",
    "     \n",
    "    mat = new_game()\n",
    " \n",
    "while(True):\n",
    " \n",
    "    # taking the user input\n",
    "    # for next step\n",
    "    x = input(\"Press the command : \")\n",
    "    #move up\n",
    "    if(x == 'W' or x == 'w'):\n",
    "        mat, flag = move_up(mat)\n",
    "        status = game_state(mat)\n",
    "        print(status)\n",
    "        if(status == 'not over'):\n",
    "            add_two(mat)\n",
    "        else:\n",
    "            break\n",
    "    #move down \n",
    "    elif(x == 'S' or x == 's'):\n",
    "        mat, flag = move_down(mat)\n",
    "        status = game_state(mat)\n",
    "        print(status)\n",
    "        if(status == 'not over'):\n",
    "            add_two(mat)\n",
    "        else:\n",
    "            break\n",
    "    #move left        \n",
    "    elif(x == 'A' or x == 'a'):\n",
    "        mat, flag = move_left(mat)\n",
    "        status = game_state(mat)\n",
    "        print(status)\n",
    "        if(status == 'not over'):\n",
    "            add_two(mat)\n",
    "        else:\n",
    "            break\n",
    "     #move right       \n",
    "    elif(x == 'D' or x == 'd'):\n",
    "        mat, flag = move_right(mat)\n",
    "        status = game_state(mat)\n",
    "        print(status)\n",
    "        if(status == 'not over'):\n",
    "            add_two(mat)\n",
    "        else:\n",
    "            break\n",
    "    else:\n",
    "        print('invalid key')\n",
    "    \n",
    "    print(mat)"
   ]
  }
 ],
 "metadata": {
  "kernelspec": {
   "display_name": "Python 3 (ipykernel)",
   "language": "python",
   "name": "python3"
  },
  "language_info": {
   "codemirror_mode": {
    "name": "ipython",
    "version": 3
   },
   "file_extension": ".py",
   "mimetype": "text/x-python",
   "name": "python",
   "nbconvert_exporter": "python",
   "pygments_lexer": "ipython3",
   "version": "3.9.13"
  }
 },
 "nbformat": 4,
 "nbformat_minor": 5
}
